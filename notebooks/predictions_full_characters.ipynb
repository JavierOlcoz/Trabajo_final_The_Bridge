{
 "metadata": {
  "language_info": {
   "codemirror_mode": {
    "name": "ipython",
    "version": 3
   },
   "file_extension": ".py",
   "mimetype": "text/x-python",
   "name": "python",
   "nbconvert_exporter": "python",
   "pygments_lexer": "ipython3",
   "version": "3.8.3-final"
  },
  "orig_nbformat": 2,
  "kernelspec": {
   "name": "python3",
   "display_name": "Python 3.8.3 64-bit",
   "metadata": {
    "interpreter": {
     "hash": "e922dd073470bdcc017ae3abd31d6491d6ed7bf31c1d559806e5511bfea88b81"
    }
   }
  }
 },
 "nbformat": 4,
 "nbformat_minor": 2,
 "cells": [
  {
   "cell_type": "code",
   "execution_count": 1,
   "metadata": {},
   "outputs": [],
   "source": [
    "from tensorflow.keras.models import load_model\n",
    "import numpy as np \n",
    "import pandas as pd \n",
    "import os\n",
    "import tensorflow.keras as keras\n",
    "import matplotlib.pyplot as plt\n",
    "from tensorflow.keras.layers import Dense,GlobalAveragePooling2D, MaxPooling2D, Conv2D, Flatten, Dropout\n",
    "from tensorflow.keras.preprocessing import image\n",
    "from tensorflow.keras.preprocessing.image import ImageDataGenerator, load_img, img_to_array\n",
    "from tensorflow.keras.models import Model, Sequential\n",
    "from tensorflow.keras.optimizers import RMSprop"
   ]
  },
  {
   "cell_type": "code",
   "execution_count": 2,
   "metadata": {},
   "outputs": [],
   "source": [
    "import h5py"
   ]
  },
  {
   "cell_type": "code",
   "execution_count": 3,
   "metadata": {},
   "outputs": [],
   "source": [
    "import glob as gb \n",
    "import cv2"
   ]
  },
  {
   "cell_type": "code",
   "execution_count": 4,
   "metadata": {},
   "outputs": [],
   "source": [
    "model = load_model('../models/simpsons_definitive_model.h5')"
   ]
  },
  {
   "cell_type": "code",
   "execution_count": 5,
   "metadata": {},
   "outputs": [],
   "source": [
    "testpath = '../data/kaggle_simpson_testset/'"
   ]
  },
  {
   "cell_type": "code",
   "execution_count": 6,
   "metadata": {},
   "outputs": [
    {
     "output_type": "stream",
     "name": "stdout",
     "text": [
      "For testing data , found 990 files\n"
     ]
    }
   ],
   "source": [
    "acum = 0\n",
    "for files in  os.listdir(testpath):\n",
    "    acum += 1\n",
    "print(f'For testing data , found {acum} files')"
   ]
  },
  {
   "cell_type": "code",
   "execution_count": 7,
   "metadata": {},
   "outputs": [],
   "source": [
    "s = 224"
   ]
  },
  {
   "cell_type": "code",
   "execution_count": 8,
   "metadata": {},
   "outputs": [],
   "source": [
    "X_test = []\n",
    "files = gb.glob(str(testpath + '/*.jpg'))\n",
    "for file in files: \n",
    "    image = cv2.imread(file)\n",
    "    image = cv2.cvtColor(image, cv2.COLOR_BGR2RGB)\n",
    "    image_array = cv2.resize(image , (s,s))\n",
    "    X_test.append(list(image_array))"
   ]
  },
  {
   "cell_type": "code",
   "execution_count": 9,
   "metadata": {},
   "outputs": [
    {
     "output_type": "stream",
     "name": "stdout",
     "text": [
      "X_test shape : (990, 224, 224, 3)\n"
     ]
    }
   ],
   "source": [
    "X_test = np.array(X_test, dtype = 'float32')\n",
    "print(f'X_test shape : {X_test.shape}')\n",
    "X_test = X_test/255.0"
   ]
  },
  {
   "cell_type": "code",
   "execution_count": 10,
   "metadata": {},
   "outputs": [],
   "source": [
    "predictions = model.predict(X_test)"
   ]
  },
  {
   "cell_type": "code",
   "execution_count": 11,
   "metadata": {},
   "outputs": [
    {
     "output_type": "execute_result",
     "data": {
      "text/plain": [
       "(990, 42)"
      ]
     },
     "metadata": {},
     "execution_count": 11
    }
   ],
   "source": [
    "predictions.shape"
   ]
  },
  {
   "cell_type": "code",
   "execution_count": 12,
   "metadata": {},
   "outputs": [],
   "source": [
    "pred_modelo=[]\n",
    "for i in range(len(predictions)):\n",
    "    pred_modelo.append(np.where(max(predictions[i])==predictions[i])[0][0])"
   ]
  },
  {
   "cell_type": "code",
   "execution_count": 13,
   "metadata": {},
   "outputs": [],
   "source": [
    "predictions_1 = np.argmax(predictions, axis=-1)"
   ]
  },
  {
   "cell_type": "code",
   "execution_count": 14,
   "metadata": {},
   "outputs": [
    {
     "output_type": "execute_result",
     "data": {
      "text/plain": [
       "array([15, 15, 17, 15,  0, 27,  9,  0, 15,  6, 15,  0,  0, 15, 15,  0,  0,\n",
       "        0, 15,  0,  0,  0, 15, 15, 15, 15, 15,  0, 15,  6,  0,  0,  0,  0,\n",
       "        0,  0,  0, 15, 15, 15, 15, 15,  0, 15,  0, 15,  0,  0,  2,  2,  5,\n",
       "        2,  2,  2,  2,  2,  2,  2,  2,  2,  2,  2,  2,  2,  2,  2,  2,  2,\n",
       "        2,  2,  5,  2,  2,  2,  2,  2,  2,  2,  2,  2,  2,  2,  2,  2,  2,\n",
       "        2,  2,  2,  2,  2,  2,  2,  2,  2,  2,  2,  2,  2,  4,  4,  4,  4,\n",
       "        4,  4, 22,  4, 15,  4,  4,  4,  4,  4,  4,  4,  4,  4,  4,  4,  4,\n",
       "        4,  4,  4, 22,  4,  4,  4,  4,  4,  4,  4,  4, 15,  4,  4,  4,  4,\n",
       "        4,  4,  4,  4,  4,  4, 20,  4,  4,  4,  4, 15,  6,  6,  6,  6, 25,\n",
       "        6,  6, 25,  6,  6,  2,  7,  6,  6,  6,  6,  6,  6,  6,  6,  6,  6,\n",
       "       27,  6,  6,  6,  6,  6,  6,  6,  6,  6, 15,  6,  6,  6,  6,  6,  6,\n",
       "        6,  6, 20,  6,  6,  6,  6,  6, 15,  7,  7,  7,  7,  7,  7,  7,  7,\n",
       "        7,  7,  7,  7, 17,  7,  7,  7,  7,  7,  7,  7,  7,  7,  7,  7,  7,\n",
       "        7,  7,  7,  7,  7,  7,  7,  7,  7, 16,  7,  7,  7,  7,  7,  7,  7,\n",
       "        7,  7,  7,  7,  7, 31,  7,  7,  9, 17,  9,  6,  9,  9,  9,  9,  9,\n",
       "       29, 17, 39,  9,  9,  9,  9,  9, 17, 15,  9,  9,  9,  9, 25,  9,  9,\n",
       "        9,  9,  9,  9,  9, 27,  9,  9,  9, 17, 15,  9,  9, 29,  9,  9, 24,\n",
       "        9,  9,  9,  9, 17, 37, 11, 11, 11, 11, 11, 17, 11, 29, 11, 11, 11,\n",
       "       11, 11, 11, 11, 11, 11, 11, 27, 11, 11, 11, 15, 11,  2, 11, 11, 11,\n",
       "       11, 11, 11, 11, 11, 11, 11, 11, 11, 11, 11, 11, 11, 11, 11, 11, 11,\n",
       "       11, 27, 11, 11, 11, 15, 15, 15, 15, 15, 15, 15, 15, 15, 15, 15, 15,\n",
       "       15, 15, 15, 15, 15, 15, 15, 15, 15, 15, 15, 15, 17, 15, 15, 15, 15,\n",
       "       15, 15, 15, 15, 15, 15, 15, 15, 17, 15, 15, 15, 15, 15, 15, 15, 15,\n",
       "       15, 15,  0, 15, 16, 16, 16, 16, 16, 16, 16, 16, 16, 16, 16, 16, 16,\n",
       "       16, 16, 16, 16, 16, 16, 16, 16, 16, 16, 16, 16, 16, 16, 16, 16, 16,\n",
       "       16, 16, 16, 16, 16, 16, 16, 16, 16, 16, 16, 16, 16, 16, 16, 16, 16,\n",
       "       16,  7, 16, 17, 17, 17, 17, 17, 17, 17, 17, 17, 17, 17, 17, 17, 17,\n",
       "       17, 17, 17, 17, 17, 17, 17, 17, 17, 17, 17, 17, 17, 17, 17, 17, 17,\n",
       "       17, 17, 17, 17, 17, 17, 17, 17, 17, 17, 17, 17, 17, 17, 17, 17, 15,\n",
       "       17, 17, 18, 18,  2, 29, 18, 18, 24, 18, 18, 18, 18, 18, 18, 18, 18,\n",
       "       18, 18, 18, 18, 18, 18, 18, 15, 18, 18, 18, 18, 18, 18, 18, 18, 18,\n",
       "       18, 15, 18, 18, 18, 18, 18, 18, 18, 18, 18, 18, 18, 18, 18, 18, 18,\n",
       "       18, 20, 20, 20, 20, 20, 15, 20, 20, 15, 20, 20, 20, 20, 20, 20, 20,\n",
       "       20, 20, 20, 20, 15, 20, 20, 20, 20, 20, 20, 20, 20, 20, 15, 20, 15,\n",
       "       20, 20, 20, 20, 27, 20, 20, 15, 20, 15, 15,  4, 37, 20, 20, 20, 21,\n",
       "       22, 22, 22, 22, 22, 22, 22, 22, 22, 22, 22, 22, 22, 22, 22, 22, 22,\n",
       "       22, 22, 22, 22, 22, 22, 22, 22, 22, 22, 22, 22, 22, 22, 22, 22, 22,\n",
       "       22, 22, 22, 22, 22, 22, 22, 22, 22, 22, 22, 22, 22, 22, 22, 22, 24,\n",
       "       24, 24, 24, 24, 24, 24, 24, 24, 24, 24, 24, 24, 24, 24, 24, 24, 24,\n",
       "       24, 29, 24, 24, 24, 24, 24, 24, 24, 24, 24, 24, 24, 24, 17, 24, 24,\n",
       "       24, 24, 24, 24, 24, 24, 24, 24, 24, 24, 24, 24, 24, 24, 24, 25, 25,\n",
       "       25, 25, 25, 25, 25, 25, 22, 25, 25, 25, 25, 25, 25, 25, 17, 25, 25,\n",
       "       25, 25, 25, 25, 25, 25, 25, 25, 25, 25, 25, 25, 25, 25, 25, 25, 25,\n",
       "       25, 25, 25, 25, 25, 25, 25, 25, 25, 25, 25, 25, 25, 27, 27, 27, 27,\n",
       "       27, 27, 27, 27, 27, 27, 27, 27, 27, 27, 27, 27, 27, 27, 27, 27, 27,\n",
       "       27, 27, 27, 27, 27, 27, 27, 27, 27, 27, 27, 27,  6, 27, 27, 27, 27,\n",
       "       27, 27, 27, 27, 27, 27, 27, 27, 27, 27, 27, 27, 28, 28, 28, 28, 28,\n",
       "       28, 28, 28, 28, 28, 28, 28, 28, 28, 28, 28, 28, 28, 28, 28, 28, 28,\n",
       "       28, 28, 28, 28, 28, 28, 28, 28, 28, 28, 28, 28, 29, 28, 28, 28, 28,\n",
       "       28, 28, 28, 28, 28, 28, 17, 28, 28, 28, 29,  3, 29, 29, 29, 29, 29,\n",
       "       29, 29, 29, 29, 24, 29, 24, 29, 29, 29, 29, 29, 29, 29, 29, 29, 29,\n",
       "       29, 29, 29, 29, 29, 29, 29,  3, 29, 29, 29, 29, 29, 29, 29, 29, 29,\n",
       "       29, 29, 29, 29, 29, 29, 17, 17, 29, 32, 32, 27, 32, 32, 32, 32, 32,\n",
       "       32, 32, 32, 28, 32, 32, 32, 32, 32, 32, 32, 32, 29, 32, 32, 32, 32,\n",
       "       32, 27, 27, 32, 32, 32, 32, 32, 27, 32, 32, 32, 32, 32, 32, 32, 32,\n",
       "       32, 32, 32, 32, 32, 32, 32, 32,  8, 37, 37, 37, 37, 37, 37, 37, 37,\n",
       "       37, 37, 37, 37, 37, 37, 37, 37, 37, 37, 37, 37, 37, 37, 37, 37, 37,\n",
       "       37, 37, 37, 37, 37, 37, 37, 37, 37, 37, 37, 37, 37, 37, 15, 37, 37,\n",
       "       37, 37, 37, 37], dtype=int64)"
      ]
     },
     "metadata": {},
     "execution_count": 14
    }
   ],
   "source": [
    "predictions_1"
   ]
  },
  {
   "cell_type": "code",
   "execution_count": 15,
   "metadata": {},
   "outputs": [],
   "source": [
    "res = pd.Series(predictions_1).map({0: 'abraham_grampa_simpson',\n",
    " 1: 'agnes_skinner',\n",
    " 2: 'apu_nahasapeemapetilon',\n",
    " 3: 'barney_gumble',\n",
    " 4: 'bart_simpson',\n",
    " 5: 'carl_carlson',\n",
    " 6: 'charles_montgomery_burns',\n",
    " 7: 'chief_wiggum',\n",
    " 8: 'cletus_spuckler',\n",
    " 9: 'comic_book_guy',\n",
    " 10: 'disco_stu',\n",
    " 11: 'edna_krabappel',\n",
    " 12: 'fat_tony',\n",
    " 13: 'gil',\n",
    " 14: 'groundskeeper_willie',\n",
    " 15: 'homer_simpson',\n",
    " 16: 'kent_brockman',\n",
    " 17: 'krusty_the_clown',\n",
    " 18: 'lenny_leonard',\n",
    " 19: 'lionel_hutz',\n",
    " 20: 'lisa_simpson',\n",
    " 21: 'maggie_simpson',\n",
    " 22: 'marge_simpson',\n",
    " 23: 'martin_prince',\n",
    " 24: 'mayor_quimby',\n",
    " 25: 'milhouse_van_houten',\n",
    " 26: 'miss_hoover',\n",
    " 27: 'moe_szyslak',\n",
    " 28: 'ned_flanders',\n",
    " 29: 'nelson_muntz',\n",
    " 30: 'otto_mann',\n",
    " 31: 'patty_bouvier',\n",
    " 32: 'principal_skinner',\n",
    " 33: 'professor_john_frink',\n",
    " 34: 'rainier_wolfcastle',\n",
    " 35: 'ralph_wiggum',\n",
    " 36: 'selma_bouvier',\n",
    " 37: 'sideshow_bob',\n",
    " 38: 'sideshow_mel',\n",
    " 39: 'snake_jailbird',\n",
    " 40: 'troy_mcclure',\n",
    " 41: 'waylon_smithers'})"
   ]
  },
  {
   "cell_type": "code",
   "execution_count": 16,
   "metadata": {},
   "outputs": [
    {
     "output_type": "execute_result",
     "data": {
      "text/plain": [
       "homer_simpson               88\n",
       "krusty_the_clown            64\n",
       "moe_szyslak                 59\n",
       "marge_simpson               53\n",
       "mayor_quimby                52\n",
       "nelson_muntz                51\n",
       "apu_nahasapeemapetilon      51\n",
       "kent_brockman               50\n",
       "milhouse_van_houten         50\n",
       "chief_wiggum                49\n",
       "ned_flanders                48\n",
       "sideshow_bob                47\n",
       "bart_simpson                45\n",
       "lenny_leonard               45\n",
       "principal_skinner           44\n",
       "charles_montgomery_burns    44\n",
       "edna_krabappel              44\n",
       "lisa_simpson                40\n",
       "comic_book_guy              35\n",
       "abraham_grampa_simpson      23\n",
       "carl_carlson                 2\n",
       "barney_gumble                2\n",
       "patty_bouvier                1\n",
       "snake_jailbird               1\n",
       "maggie_simpson               1\n",
       "cletus_spuckler              1\n",
       "dtype: int64"
      ]
     },
     "metadata": {},
     "execution_count": 16
    }
   ],
   "source": [
    "res.value_counts()"
   ]
  },
  {
   "cell_type": "code",
   "execution_count": null,
   "metadata": {},
   "outputs": [],
   "source": []
  }
 ]
}