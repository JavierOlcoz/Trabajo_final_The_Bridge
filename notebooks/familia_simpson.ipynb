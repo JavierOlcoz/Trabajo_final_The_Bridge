{
 "metadata": {
  "language_info": {
   "codemirror_mode": {
    "name": "ipython",
    "version": 3
   },
   "file_extension": ".py",
   "mimetype": "text/x-python",
   "name": "python",
   "nbconvert_exporter": "python",
   "pygments_lexer": "ipython3",
   "version": "3.8.3-final"
  },
  "orig_nbformat": 2,
  "kernelspec": {
   "name": "python3",
   "display_name": "Python 3.8.3 64-bit",
   "metadata": {
    "interpreter": {
     "hash": "e922dd073470bdcc017ae3abd31d6491d6ed7bf31c1d559806e5511bfea88b81"
    }
   }
  }
 },
 "nbformat": 4,
 "nbformat_minor": 2,
 "cells": [
  {
   "cell_type": "code",
   "execution_count": 1,
   "metadata": {},
   "outputs": [],
   "source": [
    "import numpy as np \n",
    "import pandas as pd \n",
    "import os\n",
    "import tensorflow.keras as keras\n",
    "import matplotlib.pyplot as plt\n",
    "from tensorflow.keras.layers import Dense,GlobalAveragePooling2D, MaxPooling2D, Conv2D, Flatten, Dropout\n",
    "from tensorflow.keras.preprocessing import image\n",
    "from tensorflow.keras.preprocessing.image import ImageDataGenerator, load_img, img_to_array\n",
    "from tensorflow.keras.models import Model, Sequential\n",
    "from tensorflow.keras.optimizers import RMSprop"
   ]
  },
  {
   "cell_type": "code",
   "execution_count": 2,
   "metadata": {},
   "outputs": [],
   "source": [
    "import glob as gb \n",
    "import cv2"
   ]
  },
  {
   "cell_type": "code",
   "execution_count": 3,
   "metadata": {},
   "outputs": [
    {
     "output_type": "stream",
     "name": "stdout",
     "text": [
      "Found 7274 images belonging to 6 classes.\n"
     ]
    }
   ],
   "source": [
    "IMG_SIZE = 224\n",
    "\n",
    "TRAINING_DIR = '../data/familia_simpsons_train/'\n",
    "\n",
    "training_datagen = ImageDataGenerator(rescale=1./255, featurewise_center=False, \n",
    " samplewise_center=False, \n",
    " featurewise_std_normalization=False,  \n",
    " samplewise_std_normalization=False, \n",
    " rotation_range=0, \n",
    " width_shift_range=0.1,  \n",
    " height_shift_range=0.1,  \n",
    " horizontal_flip=True, \n",
    " vertical_flip=False)\n",
    "\n",
    "train_generator = training_datagen.flow_from_directory(TRAINING_DIR,target_size=(IMG_SIZE,IMG_SIZE), class_mode='categorical', batch_size=64, shuffle=True)"
   ]
  },
  {
   "cell_type": "code",
   "execution_count": 4,
   "metadata": {},
   "outputs": [
    {
     "output_type": "execute_result",
     "data": {
      "text/plain": [
       "{0: 'abraham_grampa_simpson',\n",
       " 1: 'bart_simpson',\n",
       " 2: 'homer_simpson',\n",
       " 3: 'lisa_simpson',\n",
       " 4: 'maggie_simpson',\n",
       " 5: 'marge_simpson'}"
      ]
     },
     "metadata": {},
     "execution_count": 4
    }
   ],
   "source": [
    "class_map = train_generator.class_indices\n",
    "inv_class_map = {v: k for k, v in class_map.items()}\n",
    "inv_class_map"
   ]
  },
  {
   "cell_type": "code",
   "execution_count": 5,
   "metadata": {},
   "outputs": [
    {
     "output_type": "stream",
     "name": "stdout",
     "text": [
      "Model: \"sequential\"\n_________________________________________________________________\nLayer (type)                 Output Shape              Param #   \n=================================================================\nconv2d (Conv2D)              (None, 224, 224, 32)      896       \n_________________________________________________________________\nmax_pooling2d (MaxPooling2D) (None, 112, 112, 32)      0         \n_________________________________________________________________\nconv2d_1 (Conv2D)            (None, 112, 112, 64)      18496     \n_________________________________________________________________\nmax_pooling2d_1 (MaxPooling2 (None, 56, 56, 64)        0         \n_________________________________________________________________\nconv2d_2 (Conv2D)            (None, 56, 56, 128)       73856     \n_________________________________________________________________\nmax_pooling2d_2 (MaxPooling2 (None, 28, 28, 128)       0         \n_________________________________________________________________\nconv2d_3 (Conv2D)            (None, 28, 28, 256)       295168    \n_________________________________________________________________\nmax_pooling2d_3 (MaxPooling2 (None, 14, 14, 256)       0         \n_________________________________________________________________\nconv2d_4 (Conv2D)            (None, 14, 14, 512)       1180160   \n_________________________________________________________________\nmax_pooling2d_4 (MaxPooling2 (None, 7, 7, 512)         0         \n_________________________________________________________________\nconv2d_5 (Conv2D)            (None, 7, 7, 1024)        4719616   \n_________________________________________________________________\nmax_pooling2d_5 (MaxPooling2 (None, 3, 3, 1024)        0         \n_________________________________________________________________\nflatten (Flatten)            (None, 9216)              0         \n_________________________________________________________________\ndense (Dense)                (None, 128)               1179776   \n_________________________________________________________________\ndropout (Dropout)            (None, 128)               0         \n_________________________________________________________________\ndense_1 (Dense)              (None, 6)                 774       \n=================================================================\nTotal params: 7,468,742\nTrainable params: 7,468,742\nNon-trainable params: 0\n_________________________________________________________________\n"
     ]
    }
   ],
   "source": [
    "model = Sequential()\n",
    "\n",
    "model.add(Conv2D(filters=32, kernel_size=(3,3), input_shape=(IMG_SIZE, IMG_SIZE, 3), activation=\"relu\", padding=\"same\"))\n",
    "model.add(MaxPooling2D(pool_size=(2, 2)))\n",
    "\n",
    "model.add(Conv2D(filters=64, kernel_size=(3,3), activation=\"relu\", padding=\"same\"))\n",
    "model.add(MaxPooling2D(pool_size=(2, 2)))\n",
    "\n",
    "model.add(Conv2D(filters=128, kernel_size=(3,3), activation=\"relu\", padding=\"same\"))\n",
    "model.add(MaxPooling2D(pool_size=(2, 2)))\n",
    "\n",
    "model.add(Conv2D(filters=256, kernel_size=(3,3), activation=\"relu\", padding=\"same\"))\n",
    "model.add(MaxPooling2D(pool_size=(2, 2)))\n",
    "\n",
    "model.add(Conv2D(filters=512, kernel_size=(3,3), activation=\"relu\", padding=\"same\"))\n",
    "model.add(MaxPooling2D(pool_size=(2, 2)))\n",
    "\n",
    "model.add(Conv2D(filters=1024, kernel_size=(3,3), activation=\"relu\", padding=\"same\"))\n",
    "model.add(MaxPooling2D(pool_size=(2,2)))\n",
    "                                  \n",
    "model.add(Flatten())\n",
    "model.add(Dense(128, activation=\"relu\"))\n",
    "model.add(Dropout(0.25))\n",
    "model.add(Dense(6, activation=\"softmax\"))\n",
    "\n",
    "model.summary()"
   ]
  },
  {
   "cell_type": "code",
   "execution_count": 6,
   "metadata": {},
   "outputs": [
    {
     "output_type": "stream",
     "name": "stdout",
     "text": [
      "Epoch 1/5\n",
      "114/114 [==============================] - 663s 6s/step - loss: 3.2127 - accuracy: 0.2947\n",
      "Epoch 2/5\n",
      "114/114 [==============================] - 645s 6s/step - loss: 1.3449 - accuracy: 0.4488\n",
      "Epoch 3/5\n",
      "114/114 [==============================] - 651s 6s/step - loss: 1.0314 - accuracy: 0.5925\n",
      "Epoch 4/5\n",
      "114/114 [==============================] - 650s 6s/step - loss: 0.8009 - accuracy: 0.6963\n",
      "Epoch 5/5\n",
      "114/114 [==============================] - 633s 6s/step - loss: 0.5837 - accuracy: 0.7808\n"
     ]
    }
   ],
   "source": [
    "model.compile(loss='categorical_crossentropy', optimizer=RMSprop(), metrics=['accuracy'])\n",
    "\n",
    "EPOCHS = 5\n",
    "\n",
    "history = model.fit(train_generator, batch_size=64, epochs=EPOCHS)"
   ]
  },
  {
   "cell_type": "code",
   "execution_count": 7,
   "metadata": {},
   "outputs": [],
   "source": [
    "#model.save('familia_simpsons_model.h5')"
   ]
  },
  {
   "cell_type": "code",
   "execution_count": null,
   "metadata": {},
   "outputs": [],
   "source": []
  },
  {
   "cell_type": "code",
   "execution_count": 13,
   "metadata": {},
   "outputs": [
    {
     "output_type": "stream",
     "name": "stdout",
     "text": [
      "For testing data , found 248 files\n"
     ]
    }
   ],
   "source": [
    "testpath = '../data/familia_simpsons_test/'\n",
    "acum = 0\n",
    "for files in  os.listdir(testpath):\n",
    "    acum += 1\n",
    "print(f'For testing data , found {acum} files')"
   ]
  },
  {
   "cell_type": "code",
   "execution_count": 18,
   "metadata": {},
   "outputs": [],
   "source": [
    "s = 224"
   ]
  },
  {
   "cell_type": "code",
   "execution_count": 19,
   "metadata": {},
   "outputs": [],
   "source": [
    "X_test = []\n",
    "files = gb.glob(str(testpath + '/*.jpg'))\n",
    "for file in files: \n",
    "    image = cv2.imread(file)\n",
    "    image = cv2.cvtColor(image, cv2.COLOR_BGR2RGB)\n",
    "    image_array = cv2.resize(image , (s,s))\n",
    "    X_test.append(list(image_array))"
   ]
  },
  {
   "cell_type": "code",
   "execution_count": 20,
   "metadata": {},
   "outputs": [
    {
     "output_type": "stream",
     "name": "stdout",
     "text": [
      "X_test shape : (248, 224, 224, 3)\n"
     ]
    }
   ],
   "source": [
    "X_test = np.array(X_test, dtype = 'float32')\n",
    "print(f'X_test shape : {X_test.shape}')\n",
    "X_test = X_test/255.0"
   ]
  },
  {
   "cell_type": "code",
   "execution_count": 21,
   "metadata": {},
   "outputs": [
    {
     "output_type": "execute_result",
     "data": {
      "text/plain": [
       "array([0, 2, 0, 2, 0, 2, 2, 2, 1, 0, 2, 0, 0, 2, 0, 2, 0, 0, 2, 0, 2, 0,\n",
       "       0, 0, 0, 0, 0, 0, 2, 2, 0, 0, 0, 0, 0, 0, 0, 0, 2, 0, 0, 0, 0, 2,\n",
       "       0, 0, 0, 0, 1, 1, 1, 1, 1, 1, 5, 1, 1, 1, 1, 1, 2, 1, 1, 1, 1, 1,\n",
       "       1, 1, 1, 1, 1, 1, 1, 1, 1, 1, 1, 1, 1, 1, 1, 1, 1, 1, 1, 1, 1, 1,\n",
       "       1, 1, 1, 1, 1, 1, 1, 1, 1, 0, 2, 2, 2, 2, 2, 2, 2, 2, 2, 2, 2, 2,\n",
       "       2, 2, 2, 2, 2, 2, 2, 2, 2, 2, 2, 2, 1, 2, 2, 2, 2, 2, 2, 1, 2, 2,\n",
       "       2, 2, 2, 2, 2, 2, 2, 2, 2, 2, 2, 2, 2, 2, 2, 2, 1, 1, 1, 1, 1, 1,\n",
       "       2, 1, 1, 1, 1, 3, 1, 1, 1, 1, 3, 1, 1, 3, 1, 1, 1, 1, 1, 1, 1, 3,\n",
       "       1, 1, 2, 1, 1, 1, 1, 3, 1, 1, 3, 1, 0, 1, 2, 1, 1, 3, 1, 1, 1, 1,\n",
       "       5, 5, 5, 5, 5, 5, 5, 5, 5, 5, 5, 5, 5, 5, 5, 5, 5, 5, 5, 5, 5, 5,\n",
       "       5, 5, 5, 5, 5, 1, 5, 5, 5, 5, 5, 5, 5, 5, 5, 5, 5, 5, 5, 5, 5, 5,\n",
       "       5, 5, 5, 5, 5, 5], dtype=int64)"
      ]
     },
     "metadata": {},
     "execution_count": 21
    }
   ],
   "source": [
    "predictions = model.predict(X_test)\n",
    "predictions_1 = np.argmax(predictions, axis=-1)\n",
    "predictions_1"
   ]
  },
  {
   "cell_type": "code",
   "execution_count": null,
   "metadata": {},
   "outputs": [],
   "source": []
  }
 ]
}