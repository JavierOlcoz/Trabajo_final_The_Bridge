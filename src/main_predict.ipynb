{
 "metadata": {
  "language_info": {
   "codemirror_mode": {
    "name": "ipython",
    "version": 3
   },
   "file_extension": ".py",
   "mimetype": "text/x-python",
   "name": "python",
   "nbconvert_exporter": "python",
   "pygments_lexer": "ipython3",
   "version": "3.8.3-final"
  },
  "orig_nbformat": 2,
  "kernelspec": {
   "name": "python3",
   "display_name": "Python 3.8.3 64-bit",
   "metadata": {
    "interpreter": {
     "hash": "e922dd073470bdcc017ae3abd31d6491d6ed7bf31c1d559806e5511bfea88b81"
    }
   }
  }
 },
 "nbformat": 4,
 "nbformat_minor": 2,
 "cells": [
  {
   "source": [
    "# The Simpsons family Prediction"
   ],
   "cell_type": "markdown",
   "metadata": {}
  },
  {
   "source": [
    "### By Javier Olcoz Macayo\n",
    "### @JavierOlcoz\n",
    "### mrjolma@gmail.com"
   ],
   "cell_type": "markdown",
   "metadata": {}
  },
  {
   "source": [
    "### This notebooks is created to predict the character from any image we want to"
   ],
   "cell_type": "markdown",
   "metadata": {}
  },
  {
   "cell_type": "code",
   "execution_count": 10,
   "metadata": {},
   "outputs": [],
   "source": [
    "# Import libraries\n",
    "from utils import folders_tb as ft\n",
    "from utils import models_tb as mt\n",
    "#from utils import mining_data_tb as mdt\n",
    "#from utils import visualization_tb as vis\n",
    "#from utils import apis_tb as ap\n",
    "\n",
    "\n",
    "# Create objects\n",
    "variable_creator = ft.Folders()\n",
    "variable_model = mt.Modelo()\n",
    "#variable_miner = mdt.Miner()\n",
    "#variable_visual = vis.Visualization()\n",
    "#variable_apis = ap.Apis()"
   ]
  },
  {
   "cell_type": "code",
   "execution_count": 11,
   "metadata": {},
   "outputs": [],
   "source": [
    "# Importamos el modelo con el que queremos predecir\n",
    "model = variable_creator.load_model('../models/VGG16_15_epochs_model.h5')"
   ]
  },
  {
   "cell_type": "code",
   "execution_count": 12,
   "metadata": {},
   "outputs": [
    {
     "output_type": "stream",
     "name": "stdout",
     "text": [
      "X_test shape : (2, 224, 224, 3)\n"
     ]
    },
    {
     "output_type": "execute_result",
     "data": {
      "text/plain": [
       "array([2, 2], dtype=int64)"
      ]
     },
     "metadata": {},
     "execution_count": 12
    }
   ],
   "source": [
    "#realizamos la predicción \n",
    "x = '../image_to_predict/'\n",
    "prediction_1 = variable_model.predict_image(x, model)\n",
    "prediction_1"
   ]
  },
  {
   "cell_type": "code",
   "execution_count": null,
   "metadata": {},
   "outputs": [],
   "source": []
  }
 ]
}